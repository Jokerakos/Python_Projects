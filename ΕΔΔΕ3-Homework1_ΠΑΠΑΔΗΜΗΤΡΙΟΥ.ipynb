{
  "nbformat": 4,
  "nbformat_minor": 0,
  "metadata": {
    "colab": {
      "name": "Homework1-ΠΑΠΑΔΗΜΗΤΡΙΟΥ.ipynb",
      "provenance": [],
      "collapsed_sections": [],
      "authorship_tag": "ABX9TyPfEybrNvgBIALZ5446DIt+",
      "include_colab_link": true
    },
    "kernelspec": {
      "name": "python3",
      "display_name": "Python 3"
    }
  },
  "cells": [
    {
      "cell_type": "markdown",
      "metadata": {
        "id": "view-in-github",
        "colab_type": "text"
      },
      "source": [
        "<a href=\"https://colab.research.google.com/github/Jokerakos/Python_Projects/blob/master/%CE%95%CE%94%CE%94%CE%953-Homework1_%CE%A0%CE%91%CE%A0%CE%91%CE%94%CE%97%CE%9C%CE%97%CE%A4%CE%A1%CE%99%CE%9F%CE%A5.ipynb\" target=\"_parent\"><img src=\"https://colab.research.google.com/assets/colab-badge.svg\" alt=\"Open In Colab\"/></a>"
      ]
    },
    {
      "cell_type": "markdown",
      "metadata": {
        "id": "qwv6h_Q9R9Qq",
        "colab_type": "text"
      },
      "source": [
        "Homework 1.\n",
        "\n",
        "\n",
        "Δημιουργήστε ένα καινούριο notebook (File > New notebook) με τίτλο Homework 1 και το επώνυμό\n",
        "σας και όταν το τελειώσετε, συμπιέστε το σε μορφή .zip και ανεβάστε το στον φάκελο Εργασίες πριν\n",
        "λήξει η προθεσμία.\n",
        "\n",
        "\n",
        "1. Τυπώστε το παρακάτω κείμενο με το print( ) function και με \\n για καινούρια γραμμή:\n",
        "\n",
        "Σήμερα ξεκίνησα να μαθαίνω προγραμματισμό!\n",
        "\n",
        "\n",
        "2. Χρησιμοποιήστε μια λίστα με όνομα “mathimata“, μέσα στην οποία θα γράψετε όλα τα μαθήματα\n",
        "που θα παρακολουθήσετε σε αυτό το εξάμηνο (σε μορφή string).\n",
        "\n",
        "\n",
        "α. Τι τύπος είναι η μορφή δεδομένων “mathimata“ ; Χρησιμοποιήστε το type( ) function.\n",
        "β. Τυπώστε όλα τα “mathimata“ με το print( ) function.\n",
        "γ. Τυπώστε μόνο το αγαπημένο σας μάθημα και γράψτε το όνομα σας από δίπλα.\n",
        "Δηλαδή για παράδειγμα: ‘Αλγόριθμοι Μηχανικής Μάθησης στην Κατανόηση και Επεξεργασία\n",
        "Δεδομένων’ – Κατερίνα Σωτηράκου\n",
        "\n",
        "Για αυτό θα συνδυάσετε 2 strings, το ένα είναι το index της λίστας “mathimata“ και το άλλο θα το\n",
        "προσθέσετε εσείς χρησιμοποιώντας το print( ) function.\n",
        "\n",
        "\n",
        "3. Φτιάξτε μια νέα λίστα με όνομα “alfavita “, που θα περιέχει τα πρώτα 10 γράμματα του ελληνικού\n",
        "αλφάβητου ως strings.\n",
        "\n",
        "\n",
        "α. Αλλάξτε τα γράμματα β, γ, δ σε κεφαλαία (uppercase) και μετά αλλάξτε τα ξανά σε μικρά. Οι\n",
        "λούπες θα σας βοηθήσουν σε αυτή την άσκηση. Αν έχετε απορίες το Google και συγκεκριμένα το\n",
        "‘https://stackoverflow.com’ είναι ο καλύτερός σας φίλος.\n",
        "β. Διαγράψτε τα τελευταία 5 γράμματα της λίστας.\n",
        "\n",
        "\n",
        "4. Φτιάξτε 2 λούπες.\n",
        "\n",
        "\n",
        "α. Γράψτε μια λούπα στην οποία θα τυπώνονται οι αριθμοί Fibonacci μέχρι το 50.\n",
        "β. Δημιουργήστε μια λίστα με ακέραιους αριθμούς. Γράψτε μια λούπα που αποφασίζει αν ο αριθμός\n",
        "είναι ζυγός ή μονός (άρτιος ή περιττός).\n",
        "\n",
        "\n",
        "5. Εξασκηθείτε όσο περισσότερο μπορείτε και διαβάστε παραπάνω στο διαδίκτυο για όσα μάθατε\n",
        "στο μάθημα."
      ]
    },
    {
      "cell_type": "code",
      "metadata": {
        "id": "UrutQOG4SAih",
        "colab_type": "code",
        "outputId": "528f292d-e0c1-4e80-d6c0-d948367bdd60",
        "colab": {
          "base_uri": "https://localhost:8080/",
          "height": 357
        }
      },
      "source": [
        "print(\"Σήμερα ξεκίνησα να μαθαίνω προγραμματισμό!\")\n",
        "mathimata = [\"ΕΔΔΕ2\",\"ΕΔΔΕ3\",\"ΣΑΚΚ2\"] #τύπος string\n",
        "onoma = \"Θοδωρής Παπαδημητρίου\"\n",
        "print (\"To mathimata είναι\", type(mathimata))\n",
        "print (*mathimata, sep = \"\\n\") \n",
        "print (\"Το αγαπημένο μου είναι το:\", mathimata[1] + \" - \"+ onoma)\n",
        "alfavita = [\"a\",\"β\",\"γ\",\"δ\",\"ε\",\"ζ\",\"η\",\"θ\",\"ι\",\"κ\"]\n",
        "print (alfavita)\n",
        "for i in range(1, 4):\n",
        "  alfavita[i]=alfavita[i].upper()\n",
        "print(alfavita)\n",
        "for i in range(1, 4):\n",
        "  alfavita[i]=alfavita[i].lower()\n",
        "print(alfavita)\n",
        "alfavita = alfavita[:len(alfavita)-5]\n",
        "print (alfavita)\n",
        "FibArray = []\n",
        "a=11\n",
        "f=0\n",
        "s=1\n",
        "for x in range(2,a):\n",
        "        next=f+s                           \n",
        "        f=s\n",
        "        s=next\n",
        "        FibArray.append(next)\n",
        "print (FibArray)\n",
        "for x in range(0,len(FibArray)):\n",
        "  if x%2 == 0:\n",
        "    print(\"Ο αριθμός \", FibArray[x], \"είναι μονός\")\n",
        "  else:\n",
        "    print(\"Ο αριθμός \", FibArray[x], \"είναι ζυγός\")\n"
      ],
      "execution_count": 69,
      "outputs": [
        {
          "output_type": "stream",
          "text": [
            "Σήμερα ξεκίνησα να μαθαίνω προγραμματισμό!\n",
            "To mathimata είναι <class 'list'>\n",
            "ΕΔΔΕ2\n",
            "ΕΔΔΕ3\n",
            "ΣΑΚΚ2\n",
            "Το αγαπημένο μου είναι το: ΕΔΔΕ3 - Θοδωρής Παπαδημητρίου\n",
            "['a', 'β', 'γ', 'δ', 'ε', 'ζ', 'η', 'θ', 'ι', 'κ']\n",
            "['a', 'Β', 'Γ', 'Δ', 'ε', 'ζ', 'η', 'θ', 'ι', 'κ']\n",
            "['a', 'β', 'γ', 'δ', 'ε', 'ζ', 'η', 'θ', 'ι', 'κ']\n",
            "['a', 'β', 'γ', 'δ', 'ε']\n",
            "[1, 2, 3, 5, 8, 13, 21, 34, 55]\n",
            "Ο αριθμός  1 είναι μονός\n",
            "Ο αριθμός  2 είναι ζυγός\n",
            "Ο αριθμός  3 είναι μονός\n",
            "Ο αριθμός  5 είναι ζυγός\n",
            "Ο αριθμός  8 είναι μονός\n",
            "Ο αριθμός  13 είναι ζυγός\n",
            "Ο αριθμός  21 είναι μονός\n",
            "Ο αριθμός  34 είναι ζυγός\n",
            "Ο αριθμός  55 είναι μονός\n"
          ],
          "name": "stdout"
        }
      ]
    },
    {
      "cell_type": "code",
      "metadata": {
        "id": "ErM_IN726VXT",
        "colab_type": "code",
        "colab": {}
      },
      "source": [
        ""
      ],
      "execution_count": 0,
      "outputs": []
    }
  ]
}