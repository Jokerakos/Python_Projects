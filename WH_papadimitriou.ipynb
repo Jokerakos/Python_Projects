{
  "nbformat": 4,
  "nbformat_minor": 0,
  "metadata": {
    "kernelspec": {
      "display_name": "Python 3",
      "language": "python",
      "name": "python3"
    },
    "language_info": {
      "codemirror_mode": {
        "name": "ipython",
        "version": 3
      },
      "file_extension": ".py",
      "mimetype": "text/x-python",
      "name": "python",
      "nbconvert_exporter": "python",
      "pygments_lexer": "ipython3",
      "version": "3.7.2"
    },
    "colab": {
      "name": "WH_papadimitriou.ipynb",
      "provenance": [],
      "collapsed_sections": [],
      "include_colab_link": true
    }
  },
  "cells": [
    {
      "cell_type": "markdown",
      "metadata": {
        "id": "view-in-github",
        "colab_type": "text"
      },
      "source": [
        "<a href=\"https://colab.research.google.com/github/Jokerakos/Python_Projects/blob/master/WH_papadimitriou.ipynb\" target=\"_parent\"><img src=\"https://colab.research.google.com/assets/colab-badge.svg\" alt=\"Open In Colab\"/></a>"
      ]
    },
    {
      "cell_type": "code",
      "metadata": {
        "id": "j27j26UDyhh8",
        "colab_type": "code",
        "outputId": "b18426a6-4582-4fed-adfd-a21f37d5f147",
        "colab": {
          "resources": {
            "http://localhost:8080/nbextensions/google.colab/files.js": {
              "data": "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",
              "ok": true,
              "headers": [
                [
                  "content-type",
                  "application/javascript"
                ]
              ],
              "status": 200,
              "status_text": ""
            }
          },
          "base_uri": "https://localhost:8080/",
          "height": 93
        }
      },
      "source": [
        "import pandas as pd\n",
        "!pip install -q kaggle\n",
        "#Εδώ κάνετε import το json κλειδί που επισυνάπτω\n",
        "from google.colab import files\n",
        "files.upload()\n",
        "!mkdir ~/.kaggle\n",
        "! cp kaggle.json ~/.kaggle/\n",
        "! chmod 600 ~/.kaggle/kaggle.json\n",
        "#Αλλαγή δικαιωμάτων του αρχείου\n",
        "\n",
        "%matplotlib inline"
      ],
      "execution_count": 2,
      "outputs": [
        {
          "output_type": "display_data",
          "data": {
            "text/html": [
              "\n",
              "     <input type=\"file\" id=\"files-e0f96261-2e0e-4e9f-a910-61954fef3ceb\" name=\"files[]\" multiple disabled />\n",
              "     <output id=\"result-e0f96261-2e0e-4e9f-a910-61954fef3ceb\">\n",
              "      Upload widget is only available when the cell has been executed in the\n",
              "      current browser session. Please rerun this cell to enable.\n",
              "      </output>\n",
              "      <script src=\"/nbextensions/google.colab/files.js\"></script> "
            ],
            "text/plain": [
              "<IPython.core.display.HTML object>"
            ]
          },
          "metadata": {
            "tags": []
          }
        },
        {
          "output_type": "stream",
          "text": [
            "Saving kaggle.json to kaggle.json\n",
            "mkdir: cannot create directory ‘/root/.kaggle’: File exists\n"
          ],
          "name": "stdout"
        }
      ]
    },
    {
      "cell_type": "code",
      "metadata": {
        "id": "qOZrn5kFxVFU",
        "colab_type": "code",
        "outputId": "84cf8a73-2ef7-49a5-f7c7-cf3a95483472",
        "colab": {
          "base_uri": "https://localhost:8080/",
          "height": 71
        }
      },
      "source": [
        "!kaggle datasets download -d unsdsn/world-happiness"
      ],
      "execution_count": 0,
      "outputs": [
        {
          "output_type": "stream",
          "text": [
            "Downloading world-happiness.zip to /content\n",
            "\r  0% 0.00/36.8k [00:00<?, ?B/s]\n",
            "\r100% 36.8k/36.8k [00:00<00:00, 14.4MB/s]\n"
          ],
          "name": "stdout"
        }
      ]
    },
    {
      "cell_type": "code",
      "metadata": {
        "id": "QRt3Veklovuq",
        "colab_type": "code",
        "outputId": "307fbad4-1f3a-42ad-d377-f83b51faa9fd",
        "colab": {
          "base_uri": "https://localhost:8080/",
          "height": 35
        }
      },
      "source": [
        "!ls"
      ],
      "execution_count": 0,
      "outputs": [
        {
          "output_type": "stream",
          "text": [
            "kaggle.json  sample_data  world-happiness.zip\n"
          ],
          "name": "stdout"
        }
      ]
    },
    {
      "cell_type": "code",
      "metadata": {
        "id": "A8apb5Cho1ft",
        "colab_type": "code",
        "outputId": "ef326a9d-2fc9-444a-b1e4-694ee72a7dce",
        "colab": {
          "base_uri": "https://localhost:8080/",
          "height": 125
        }
      },
      "source": [
        "!unzip \\*.zip  && rm *.zip\n"
      ],
      "execution_count": 0,
      "outputs": [
        {
          "output_type": "stream",
          "text": [
            "Archive:  world-happiness.zip\n",
            "  inflating: 2015.csv                \n",
            "  inflating: 2016.csv                \n",
            "  inflating: 2017.csv                \n",
            "  inflating: 2018.csv                \n",
            "  inflating: 2019.csv                \n"
          ],
          "name": "stdout"
        }
      ]
    },
    {
      "cell_type": "code",
      "metadata": {
        "id": "Bbnp5n2eyhh_",
        "colab_type": "code",
        "colab": {}
      },
      "source": [
        "colnames=['Country','Region',\t'Happiness Rank',\t'Score',\t'Standard Error',\t'GDP per capita',\t'Family',\t'Health','Freedom',\t'Trust',\t'Generosity',\t'Dystopia Residual'] \n",
        "df2015 = pd.read_csv('2015.csv', names=colnames, header=None)\n",
        "\n",
        "colnames=['Country',\t'Region',\t'Happiness Rank',\t'Score',\t'Lower Confidence Interval',\t'Upper Confidence Interval',\t'GDP per capita',\t'Family',\t'Health',\t'Freedom',\t'Trust',\t'Generosity',\t'Dystopia Residual'] \n",
        "df2016 = pd.read_csv('2016.csv', names=colnames, header=None)\n",
        "\n",
        "colnames=['Country',\t'Happiness Rank',\t'Score',\t'Whisker.high',\t'Whisker.low',\t'GDP per capita',\t'Family',\t'Health',\t'Freedom',\t'Generosity',\t'Trust',\t'Dystopia.Residual'] \n",
        "df2017 = pd.read_csv('2017.csv', names=colnames, header=None)\n",
        "\n",
        "colnames=['Happiness rank',\t'Country',\t'Score',\t'GDP per capita',\t'Social support',\t'Health',\t'Freedom',\t'Generosity',\t'Perceptions of corruption'] \n",
        "df2018 = pd.read_csv('2018.csv', names=colnames, header=None)\n",
        "\n",
        "colnames=['Happiness rank',\t'Country',\t'Score',\t'GDP per capita',\t'Social support',\t'Health',\t'Freedom',\t'Generosity',\t'Perceptions of corruption'] \n",
        "df2019 = pd.read_csv('2019.csv', names=colnames, header=None)"
      ],
      "execution_count": 0,
      "outputs": []
    },
    {
      "cell_type": "markdown",
      "metadata": {
        "id": "0db8gpHJXVtD",
        "colab_type": "text"
      },
      "source": [
        "Καθάρισμα λόγω διαφορετικών ονομάτων "
      ]
    },
    {
      "cell_type": "code",
      "metadata": {
        "id": "O8KzLAyCXk4A",
        "colab_type": "code",
        "outputId": "57399566-dcfe-4727-b8da-7ad96ab6aa1e",
        "colab": {
          "base_uri": "https://localhost:8080/",
          "height": 269
        }
      },
      "source": [
        "del df2015['Happiness Rank']\n",
        "del df2015['Standard Error']\n",
        "del df2015['Family']\n",
        "del df2015['Trust']\n",
        "del df2015['Dystopia Residual']\n",
        "\n",
        "df2015['Score'] = pd.to_numeric(df2015['Score'],errors='coerce')\n",
        "df2015['GDP per capita'] = pd.to_numeric(df2015['GDP per capita'],errors='coerce')\n",
        "df2015['Health'] = pd.to_numeric(df2015['Health'],errors='coerce')\n",
        "df2015['Freedom'] = pd.to_numeric(df2015['Freedom'],errors='coerce')\n",
        "df2015['Generosity'] = pd.to_numeric(df2015['Generosity'],errors='coerce')\n",
        "\n",
        "\n",
        "new_row = {'Country':'Belize'}\n",
        "df2015 = df2015.append(new_row, ignore_index=True)\n",
        "\n",
        "new_row = {'Country':'Namibia'}\n",
        "df2015 = df2015.append(new_row, ignore_index=True)\n",
        "\n",
        "new_row = {'Country':'Somalia'}\n",
        "df2015 = df2015.append(new_row, ignore_index=True)\n",
        "\n",
        "new_row = {'Country':'South Sudan'}\n",
        "df2015 = df2015.append(new_row, ignore_index=True)\n",
        "\n",
        "df2015 = df2015[df2015.Country != 'Comoros']\n",
        "df2015 = df2015[df2015.Country != 'Somaliland region']\n",
        "df2015 = df2015[df2015.Country != 'Swaziland']\n",
        "df2015 = df2015[df2015.Country != 'Suriname']\n",
        "df2015 = df2015[df2015.Country != 'Djibouti']\n",
        "df2015 = df2015[df2015.Country != 'Oman']\n",
        "\n",
        "\n",
        "print(df2015.sort_values('Country'))\n",
        "\n",
        "df2015.fillna(0)\n",
        "df2015 = df2015.iloc[1:]\n"
      ],
      "execution_count": 0,
      "outputs": [
        {
          "output_type": "stream",
          "text": [
            "         Country                           Region  ...  Freedom  Generosity\n",
            "153  Afghanistan                    Southern Asia  ...  0.23414     0.36510\n",
            "95       Albania       Central and Eastern Europe  ...  0.35733     0.14272\n",
            "68       Algeria  Middle East and Northern Africa  ...  0.28579     0.07822\n",
            "137       Angola               Sub-Saharan Africa  ...  0.10384     0.12344\n",
            "30     Argentina      Latin America and Caribbean  ...  0.44974     0.11451\n",
            "..           ...                              ...  ...      ...         ...\n",
            "23     Venezuela      Latin America and Caribbean  ...  0.42908     0.05841\n",
            "75       Vietnam                Southeastern Asia  ...  0.59444     0.16860\n",
            "136        Yemen  Middle East and Northern Africa  ...  0.35571     0.09131\n",
            "85        Zambia               Sub-Saharan Africa  ...  0.48827     0.19591\n",
            "115     Zimbabwe               Sub-Saharan Africa  ...  0.25861     0.18987\n",
            "\n",
            "[157 rows x 7 columns]\n"
          ],
          "name": "stdout"
        }
      ]
    },
    {
      "cell_type": "code",
      "metadata": {
        "id": "XV0BjVetfIHA",
        "colab_type": "code",
        "outputId": "c2052438-f2f6-43fd-cec7-afbe1f19b7a3",
        "colab": {
          "base_uri": "https://localhost:8080/",
          "height": 269
        }
      },
      "source": [
        "del df2016['Happiness Rank']\n",
        "del df2016['Lower Confidence Interval']\n",
        "del df2016['Upper Confidence Interval']\n",
        "del df2016['Family']\n",
        "del df2016['Trust']\n",
        "del df2016['Dystopia Residual']\n",
        "\n",
        "df2016['Score'] = pd.to_numeric(df2016['Score'],errors='coerce')\n",
        "df2016['GDP per capita'] = pd.to_numeric(df2016['GDP per capita'],errors='coerce')\n",
        "df2016['Health'] = pd.to_numeric(df2016['Health'],errors='coerce')\n",
        "df2016['Freedom'] = pd.to_numeric(df2016['Freedom'],errors='coerce')\n",
        "df2016['Generosity'] = pd.to_numeric(df2016['Generosity'],errors='coerce')\n",
        "\n",
        "new_row = {'Country':'Central African Republic'}\n",
        "df2016 = df2016.append(new_row, ignore_index=True)\n",
        "\n",
        "new_row = {'Country':'Lesotho'}\n",
        "df2016 = df2016.append(new_row, ignore_index=True)\n",
        "\n",
        "new_row = {'Country':'Mozambique'}\n",
        "df2016 = df2016.append(new_row, ignore_index=True)\n",
        "\n",
        "df2016 = df2016[df2016.Country != 'Suriname']\n",
        "df2016 = df2016[df2016.Country != 'Somaliland Region']\n",
        "df2016 = df2016[df2016.Country != 'Comoros']\n",
        "df2016 = df2016[df2016.Country != 'Puerto Rico']\n",
        "print(df2016.sort_values('Country'))\n",
        "\n",
        "\n",
        "df2016.fillna(0)\n",
        "df2016 = df2016.iloc[1:]\n"
      ],
      "execution_count": 0,
      "outputs": [
        {
          "output_type": "stream",
          "text": [
            "         Country                           Region  ...  Freedom  Generosity\n",
            "154  Afghanistan                    Southern Asia  ...  0.16430     0.31268\n",
            "109      Albania       Central and Eastern Europe  ...  0.31866     0.16840\n",
            "38       Algeria  Middle East and Northern Africa  ...  0.21006     0.07044\n",
            "141       Angola               Sub-Saharan Africa  ...  0.00589     0.12071\n",
            "26     Argentina      Latin America and Caribbean  ...  0.42284     0.10989\n",
            "..           ...                              ...  ...      ...         ...\n",
            "44     Venezuela      Latin America and Caribbean  ...  0.19847     0.04250\n",
            "96       Vietnam                Southeastern Asia  ...  0.55954     0.25075\n",
            "147        Yemen  Middle East and Northern Africa  ...  0.22870     0.09821\n",
            "106       Zambia               Sub-Saharan Africa  ...  0.42662     0.17866\n",
            "131     Zimbabwe               Sub-Saharan Africa  ...  0.25429     0.18503\n",
            "\n",
            "[157 rows x 7 columns]\n"
          ],
          "name": "stdout"
        }
      ]
    },
    {
      "cell_type": "code",
      "metadata": {
        "id": "tZ_JHgC3fLHb",
        "colab_type": "code",
        "colab": {}
      },
      "source": [
        "\n",
        "del df2017['Happiness Rank']\n",
        "del df2017['Whisker.high']\n",
        "del df2017['Whisker.low']\n",
        "del df2017['Family']\n",
        "del df2017['Trust']\n",
        "del df2017['Dystopia.Residual']\n",
        "\n",
        "df2017['Score'] = pd.to_numeric(df2017['Score'],errors='coerce')\n",
        "df2017['GDP per capita'] = pd.to_numeric(df2017['GDP per capita'],errors='coerce')\n",
        "df2017['Health'] = pd.to_numeric(df2017['Health'],errors='coerce')\n",
        "df2017['Freedom'] = pd.to_numeric(df2017['Freedom'],errors='coerce')\n",
        "df2017['Generosity'] = pd.to_numeric(df2017['Generosity'],errors='coerce')\n",
        "\n",
        "# Save back into the dataframe with =\n",
        "df2017['Country'] = df2017['Country'].replace('Hong Kong S.A.R., China', 'Hong Kong')\n",
        "df2017['Country'] = df2017['Country'].replace('Taiwan Province of China', 'Taiwan')\n",
        "\n",
        "df2017.fillna(0)\n",
        "df2017 = df2017.iloc[1:]\n"
      ],
      "execution_count": 0,
      "outputs": []
    },
    {
      "cell_type": "code",
      "metadata": {
        "id": "sg0ze5uvfMTS",
        "colab_type": "code",
        "colab": {}
      },
      "source": [
        "del df2018['Happiness rank']\n",
        "del df2018['Social support']\n",
        "del df2018['Perceptions of corruption']\n",
        "\n",
        "df2018['Score'] = pd.to_numeric(df2018['Score'],errors='coerce')\n",
        "df2018['GDP per capita'] = pd.to_numeric(df2018['GDP per capita'],errors='coerce')\n",
        "df2018['Health'] = pd.to_numeric(df2018['Health'],errors='coerce')\n",
        "df2018['Freedom'] = pd.to_numeric(df2018['Freedom'],errors='coerce')\n",
        "df2018['Generosity'] = pd.to_numeric(df2018['Generosity'],errors='coerce')\n",
        "\n",
        "df2018.fillna(0)\n",
        "df2018 = df2018.iloc[1:]\n"
      ],
      "execution_count": 0,
      "outputs": []
    },
    {
      "cell_type": "code",
      "metadata": {
        "id": "uD6rB4g8fNcd",
        "colab_type": "code",
        "colab": {}
      },
      "source": [
        "del df2019['Happiness rank']\n",
        "del df2019['Social support']\n",
        "del df2019['Perceptions of corruption']\n",
        "df2019 = df2019[df2019.Country != 'Djibouti']\n",
        "df2019 = df2019[df2019.Country != 'Oman']\n",
        "df2019 = df2019[df2019.Country != 'Gambia']\n",
        "df2019 = df2019[df2019.Country != 'Comoros']\n",
        "df2019 = df2019[df2019.Country != 'Swaziland']\n",
        "\n",
        "df2019['Score'] = pd.to_numeric(df2019['Score'],errors='coerce')\n",
        "df2019['GDP per capita'] = pd.to_numeric(df2019['GDP per capita'],errors='coerce')\n",
        "df2019['Health'] = pd.to_numeric(df2019['Health'],errors='coerce')\n",
        "df2019['Freedom'] = pd.to_numeric(df2019['Freedom'],errors='coerce')\n",
        "df2019['Generosity'] = pd.to_numeric(df2019['Generosity'],errors='coerce')\n",
        "\n",
        "new_row = {'Country':'Angola'}\n",
        "df2019 = df2019.append(new_row, ignore_index=True)\n",
        "\n",
        "new_row = {'Country':'Belize'}\n",
        "df2019 = df2019.append(new_row, ignore_index=True)\n",
        "\n",
        "new_row = {'Country':'Sudan'}\n",
        "df2019 = df2019.append(new_row, ignore_index=True)\n",
        "\n",
        "df2019['Country'].replace({'North Macedonia': 'Macedonia'})\n",
        "\n",
        "df2019.fillna(0)\n",
        "df2019 = df2019.iloc[1:]\n"
      ],
      "execution_count": 0,
      "outputs": []
    },
    {
      "cell_type": "code",
      "metadata": {
        "id": "--InN8IVyhiC",
        "colab_type": "code",
        "outputId": "37fafb44-b5cd-433d-ec45-746ff27bebcf",
        "colab": {
          "base_uri": "https://localhost:8080/",
          "height": 197
        }
      },
      "source": [
        "print(df2015.shape)\n",
        "print(list(df2015.columns))\n",
        "\n",
        "print(df2016.shape)\n",
        "print(list(df2016.columns))\n",
        "\n",
        "print(df2017.shape)\n",
        "print(list(df2017.columns))\n",
        "\n",
        "print(df2018.shape)\n",
        "print(list(df2018.columns))\n",
        "\n",
        "print(df2019.shape)\n",
        "print(list(df2019.columns))"
      ],
      "execution_count": 0,
      "outputs": [
        {
          "output_type": "stream",
          "text": [
            "(156, 7)\n",
            "['Country', 'Region', 'Score', 'GDP per capita', 'Health', 'Freedom', 'Generosity']\n",
            "(156, 7)\n",
            "['Country', 'Region', 'Score', 'GDP per capita', 'Health', 'Freedom', 'Generosity']\n",
            "(155, 6)\n",
            "['Country', 'Score', 'GDP per capita', 'Health', 'Freedom', 'Generosity']\n",
            "(156, 6)\n",
            "['Country', 'Score', 'GDP per capita', 'Health', 'Freedom', 'Generosity']\n",
            "(156, 6)\n",
            "['Country', 'Score', 'GDP per capita', 'Health', 'Freedom', 'Generosity']\n"
          ],
          "name": "stdout"
        }
      ]
    },
    {
      "cell_type": "code",
      "metadata": {
        "id": "ZhmG6Ed6g6u5",
        "colab_type": "code",
        "outputId": "e37e7ab8-1a79-4241-c00e-4166a3ac5373",
        "colab": {
          "base_uri": "https://localhost:8080/",
          "height": 683
        }
      },
      "source": [
        "print(df2015.isnull().sum())\n",
        "print(df2016.isnull().sum())\n",
        "print(df2017.isnull().sum())\n",
        "print(df2018.isnull().sum())\n",
        "print(df2019.isnull().sum())\n"
      ],
      "execution_count": 0,
      "outputs": [
        {
          "output_type": "stream",
          "text": [
            "Country           0\n",
            "Region            4\n",
            "Score             4\n",
            "GDP per capita    4\n",
            "Health            4\n",
            "Freedom           4\n",
            "Generosity        4\n",
            "dtype: int64\n",
            "Country           0\n",
            "Region            3\n",
            "Score             3\n",
            "GDP per capita    3\n",
            "Health            3\n",
            "Freedom           3\n",
            "Generosity        3\n",
            "dtype: int64\n",
            "Country           0\n",
            "Score             0\n",
            "GDP per capita    0\n",
            "Health            0\n",
            "Freedom           0\n",
            "Generosity        0\n",
            "dtype: int64\n",
            "Country           0\n",
            "Score             0\n",
            "GDP per capita    0\n",
            "Health            0\n",
            "Freedom           0\n",
            "Generosity        0\n",
            "dtype: int64\n",
            "Country           0\n",
            "Score             3\n",
            "GDP per capita    3\n",
            "Health            3\n",
            "Freedom           3\n",
            "Generosity        3\n",
            "dtype: int64\n"
          ],
          "name": "stdout"
        }
      ]
    },
    {
      "cell_type": "code",
      "metadata": {
        "id": "Lb0d2fbxh0Jj",
        "colab_type": "code",
        "colab": {}
      },
      "source": [
        "#Κάνω sort και στην πορεία reset το index για να πάρει σωστή αρίθμηση μετά το sort\n",
        "\n",
        "df2015=df2015.sort_values('Country')\n",
        "df2016=df2016.sort_values('Country')\n",
        "df2017=df2017.sort_values('Country')\n",
        "df2018=df2018.sort_values('Country')\n",
        "df2019=df2019.sort_values('Country')\n",
        "\n",
        "df2015 = df2015.reset_index(drop=True)\n",
        "df2016 = df2016.reset_index(drop=True)\n",
        "df2017 = df2017.reset_index(drop=True)\n",
        "df2018 = df2018.reset_index(drop=True)\n",
        "df2019 = df2019.reset_index(drop=True)\n",
        "\n",
        "\n"
      ],
      "execution_count": 0,
      "outputs": []
    },
    {
      "cell_type": "code",
      "metadata": {
        "id": "fVDsrM43-NGR",
        "colab_type": "code",
        "colab": {}
      },
      "source": [
        "#Προσθέτω το region σε κάθε dataframe και αλλάζω τα ονόματα στις κολώνες για να ταιριάζουν\n",
        "df2017['Region'] = df2016['Region']\n",
        "df2017 = df2017[['Country', 'Region', 'Score', 'GDP per capita', 'Health', 'Freedom', 'Generosity']]\n",
        "\n",
        "df2018['Region'] = df2016['Region']\n",
        "df2018 = df2018[['Country', 'Region', 'Score', 'GDP per capita', 'Health', 'Freedom', 'Generosity']]\n",
        "\n",
        "df2019['Region'] = df2016['Region']\n",
        "df2019 = df2019[['Country', 'Region', 'Score', 'GDP per capita', 'Health', 'Freedom', 'Generosity']]\n"
      ],
      "execution_count": 0,
      "outputs": []
    },
    {
      "cell_type": "code",
      "metadata": {
        "id": "_Gj9sokWr8BJ",
        "colab_type": "code",
        "colab": {}
      },
      "source": [
        "#Δημιουργώ μία νέα κολώνα σε κάθε dataframe με το όνομα του αρχείου / χρονιά. Ύστερα ενώνω τα dataframes σε ένα καθαρίζοντας τα NaN δεδομένα \n",
        "df2015['year'] = 2015\n",
        "df2016['year'] = 2016\n",
        "df2017['year'] = 2017\n",
        "df2018['year'] = 2018\n",
        "df2019['year'] = 2019\n",
        "\n",
        "\n",
        "dfs=[df2015, df2016, df2017, df2018, df2019]\n",
        "\n"
      ],
      "execution_count": 0,
      "outputs": []
    },
    {
      "cell_type": "code",
      "metadata": {
        "id": "mG-L2N6eVjJv",
        "colab_type": "code",
        "colab": {}
      },
      "source": [
        "data = pd.concat(dfs).dropna(axis = 0, how ='any') "
      ],
      "execution_count": 0,
      "outputs": []
    },
    {
      "cell_type": "code",
      "metadata": {
        "id": "ZZKOkim7zBXn",
        "colab_type": "code",
        "outputId": "8b2975b4-efcb-4411-ea17-e6ad571259b6",
        "colab": {
          "base_uri": "https://localhost:8080/",
          "height": 35
        }
      },
      "source": [
        "data.shape"
      ],
      "execution_count": 0,
      "outputs": [
        {
          "output_type": "execute_result",
          "data": {
            "text/plain": [
              "(760, 8)"
            ]
          },
          "metadata": {
            "tags": []
          },
          "execution_count": 136
        }
      ]
    },
    {
      "cell_type": "code",
      "metadata": {
        "id": "oxP-sxoaHRQc",
        "colab_type": "code",
        "outputId": "50c412e0-8693-4e98-e7fa-4018d5ab8bb1",
        "colab": {
          "base_uri": "https://localhost:8080/",
          "height": 359
        }
      },
      "source": [
        "#Κάνω ταξινόμηση στα δεδομένα ανάλογα με το Happiness Score και τυπώνω τις πρώτες 10 τιμές\n",
        "data=data.sort_values('Score', ascending=False)\n",
        "data = data.reset_index(drop=True)\n",
        "data.head(10)"
      ],
      "execution_count": 0,
      "outputs": [
        {
          "output_type": "execute_result",
          "data": {
            "text/html": [
              "<div>\n",
              "<style scoped>\n",
              "    .dataframe tbody tr th:only-of-type {\n",
              "        vertical-align: middle;\n",
              "    }\n",
              "\n",
              "    .dataframe tbody tr th {\n",
              "        vertical-align: top;\n",
              "    }\n",
              "\n",
              "    .dataframe thead th {\n",
              "        text-align: right;\n",
              "    }\n",
              "</style>\n",
              "<table border=\"1\" class=\"dataframe\">\n",
              "  <thead>\n",
              "    <tr style=\"text-align: right;\">\n",
              "      <th></th>\n",
              "      <th>Country</th>\n",
              "      <th>Region</th>\n",
              "      <th>Score</th>\n",
              "      <th>GDP per capita</th>\n",
              "      <th>Health</th>\n",
              "      <th>Freedom</th>\n",
              "      <th>Generosity</th>\n",
              "      <th>year</th>\n",
              "    </tr>\n",
              "  </thead>\n",
              "  <tbody>\n",
              "    <tr>\n",
              "      <th>0</th>\n",
              "      <td>Finland</td>\n",
              "      <td>Western Europe</td>\n",
              "      <td>7.769</td>\n",
              "      <td>1.340000</td>\n",
              "      <td>0.986000</td>\n",
              "      <td>0.596000</td>\n",
              "      <td>0.153000</td>\n",
              "      <td>2019</td>\n",
              "    </tr>\n",
              "    <tr>\n",
              "      <th>1</th>\n",
              "      <td>Finland</td>\n",
              "      <td>Western Europe</td>\n",
              "      <td>7.632</td>\n",
              "      <td>1.305000</td>\n",
              "      <td>0.874000</td>\n",
              "      <td>0.681000</td>\n",
              "      <td>0.202000</td>\n",
              "      <td>2018</td>\n",
              "    </tr>\n",
              "    <tr>\n",
              "      <th>2</th>\n",
              "      <td>Denmark</td>\n",
              "      <td>Western Europe</td>\n",
              "      <td>7.600</td>\n",
              "      <td>1.383000</td>\n",
              "      <td>0.996000</td>\n",
              "      <td>0.592000</td>\n",
              "      <td>0.252000</td>\n",
              "      <td>2019</td>\n",
              "    </tr>\n",
              "    <tr>\n",
              "      <th>3</th>\n",
              "      <td>Norway</td>\n",
              "      <td>Western Europe</td>\n",
              "      <td>7.594</td>\n",
              "      <td>1.456000</td>\n",
              "      <td>0.861000</td>\n",
              "      <td>0.686000</td>\n",
              "      <td>0.286000</td>\n",
              "      <td>2018</td>\n",
              "    </tr>\n",
              "    <tr>\n",
              "      <th>4</th>\n",
              "      <td>Switzerland</td>\n",
              "      <td>Western Europe</td>\n",
              "      <td>7.587</td>\n",
              "      <td>1.396510</td>\n",
              "      <td>0.941430</td>\n",
              "      <td>0.665570</td>\n",
              "      <td>0.296780</td>\n",
              "      <td>2015</td>\n",
              "    </tr>\n",
              "    <tr>\n",
              "      <th>5</th>\n",
              "      <td>Iceland</td>\n",
              "      <td>Western Europe</td>\n",
              "      <td>7.561</td>\n",
              "      <td>1.302320</td>\n",
              "      <td>0.947840</td>\n",
              "      <td>0.628770</td>\n",
              "      <td>0.436300</td>\n",
              "      <td>2015</td>\n",
              "    </tr>\n",
              "    <tr>\n",
              "      <th>6</th>\n",
              "      <td>Denmark</td>\n",
              "      <td>Western Europe</td>\n",
              "      <td>7.555</td>\n",
              "      <td>1.351000</td>\n",
              "      <td>0.868000</td>\n",
              "      <td>0.683000</td>\n",
              "      <td>0.284000</td>\n",
              "      <td>2018</td>\n",
              "    </tr>\n",
              "    <tr>\n",
              "      <th>7</th>\n",
              "      <td>Norway</td>\n",
              "      <td>Western Europe</td>\n",
              "      <td>7.554</td>\n",
              "      <td>1.488000</td>\n",
              "      <td>1.028000</td>\n",
              "      <td>0.603000</td>\n",
              "      <td>0.271000</td>\n",
              "      <td>2019</td>\n",
              "    </tr>\n",
              "    <tr>\n",
              "      <th>8</th>\n",
              "      <td>Norway</td>\n",
              "      <td>Western Europe</td>\n",
              "      <td>7.537</td>\n",
              "      <td>1.616463</td>\n",
              "      <td>0.796667</td>\n",
              "      <td>0.635423</td>\n",
              "      <td>0.362012</td>\n",
              "      <td>2017</td>\n",
              "    </tr>\n",
              "    <tr>\n",
              "      <th>9</th>\n",
              "      <td>Denmark</td>\n",
              "      <td>Western Europe</td>\n",
              "      <td>7.527</td>\n",
              "      <td>1.325480</td>\n",
              "      <td>0.874640</td>\n",
              "      <td>0.649380</td>\n",
              "      <td>0.341390</td>\n",
              "      <td>2015</td>\n",
              "    </tr>\n",
              "  </tbody>\n",
              "</table>\n",
              "</div>"
            ],
            "text/plain": [
              "       Country          Region  Score  ...   Freedom  Generosity  year\n",
              "0      Finland  Western Europe  7.769  ...  0.596000    0.153000  2019\n",
              "1      Finland  Western Europe  7.632  ...  0.681000    0.202000  2018\n",
              "2      Denmark  Western Europe  7.600  ...  0.592000    0.252000  2019\n",
              "3       Norway  Western Europe  7.594  ...  0.686000    0.286000  2018\n",
              "4  Switzerland  Western Europe  7.587  ...  0.665570    0.296780  2015\n",
              "5      Iceland  Western Europe  7.561  ...  0.628770    0.436300  2015\n",
              "6      Denmark  Western Europe  7.555  ...  0.683000    0.284000  2018\n",
              "7       Norway  Western Europe  7.554  ...  0.603000    0.271000  2019\n",
              "8       Norway  Western Europe  7.537  ...  0.635423    0.362012  2017\n",
              "9      Denmark  Western Europe  7.527  ...  0.649380    0.341390  2015\n",
              "\n",
              "[10 rows x 8 columns]"
            ]
          },
          "metadata": {
            "tags": []
          },
          "execution_count": 148
        }
      ]
    },
    {
      "cell_type": "code",
      "metadata": {
        "id": "3RX2TTODGB-l",
        "colab_type": "code",
        "outputId": "0999f042-a57b-495d-bacf-83be315fbe80",
        "colab": {
          "base_uri": "https://localhost:8080/",
          "height": 282
        }
      },
      "source": [
        "#Γράφημα για το συνολικό happiness score ανά region\n",
        "data.groupby('Region')['Score'].mean().plot(kind='pie',title='Total Happiness Score By Region')\n"
      ],
      "execution_count": 0,
      "outputs": [
        {
          "output_type": "execute_result",
          "data": {
            "text/plain": [
              "<matplotlib.axes._subplots.AxesSubplot at 0x7f9cd5f45b70>"
            ]
          },
          "metadata": {
            "tags": []
          },
          "execution_count": 142
        },
        {
          "output_type": "display_data",
          "data": {
            "image/png": "[encoded data removed]",
            "text/plain": [
              "<Figure size 432x288 with 1 Axes>"
            ]
          },
          "metadata": {
            "tags": []
          }
        }
      ]
    },
    {
      "cell_type": "code",
      "metadata": {
        "id": "vhzS-pTVy4l8",
        "colab_type": "code",
        "outputId": "b612d523-dd04-4d70-d11c-dc830e587c6f",
        "colab": {
          "base_uri": "https://localhost:8080/",
          "height": 299
        }
      },
      "source": [
        "#Γράφημα για τον μέσο όρο βαθμού ευτυχίας αυτά τα χρόνια\n",
        "data.groupby('Region')['Score'].mean().plot(kind='barh',title='Total Mean Happiness Score By Region')\n"
      ],
      "execution_count": 0,
      "outputs": [
        {
          "output_type": "execute_result",
          "data": {
            "text/plain": [
              "<matplotlib.axes._subplots.AxesSubplot at 0x7f9cd28e2390>"
            ]
          },
          "metadata": {
            "tags": []
          },
          "execution_count": 143
        },
        {
          "output_type": "display_data",
          "data": {
            "image/png": "[encoded data removed]",
            "text/plain": [
              "<Figure size 432x288 with 1 Axes>"
            ]
          },
          "metadata": {
            "tags": [],
            "needs_background": "light"
          }
        }
      ]
    },
    {
      "cell_type": "code",
      "metadata": {
        "id": "8RX0gVZnB0oV",
        "colab_type": "code",
        "outputId": "6e67c6f3-a110-4700-a849-d892c477587a",
        "colab": {
          "base_uri": "https://localhost:8080/",
          "height": 204
        }
      },
      "source": [
        "#Δημιουργώ ένα dataframe με τα στοιχεία της Ελλάδας μόνο\n",
        "dfgr=data.loc[data['Country'] == 'Greece']\n",
        "dfgr"
      ],
      "execution_count": 0,
      "outputs": [
        {
          "output_type": "execute_result",
          "data": {
            "text/html": [
              "<div>\n",
              "<style scoped>\n",
              "    .dataframe tbody tr th:only-of-type {\n",
              "        vertical-align: middle;\n",
              "    }\n",
              "\n",
              "    .dataframe tbody tr th {\n",
              "        vertical-align: top;\n",
              "    }\n",
              "\n",
              "    .dataframe thead th {\n",
              "        text-align: right;\n",
              "    }\n",
              "</style>\n",
              "<table border=\"1\" class=\"dataframe\">\n",
              "  <thead>\n",
              "    <tr style=\"text-align: right;\">\n",
              "      <th></th>\n",
              "      <th>Country</th>\n",
              "      <th>Region</th>\n",
              "      <th>Score</th>\n",
              "      <th>GDP per capita</th>\n",
              "      <th>Health</th>\n",
              "      <th>Freedom</th>\n",
              "      <th>Generosity</th>\n",
              "      <th>year</th>\n",
              "    </tr>\n",
              "  </thead>\n",
              "  <tbody>\n",
              "    <tr>\n",
              "      <th>50</th>\n",
              "      <td>Greece</td>\n",
              "      <td>Western Europe</td>\n",
              "      <td>4.857</td>\n",
              "      <td>1.154060</td>\n",
              "      <td>0.882130</td>\n",
              "      <td>0.076990</td>\n",
              "      <td>0.0</td>\n",
              "      <td>2015</td>\n",
              "    </tr>\n",
              "    <tr>\n",
              "      <th>50</th>\n",
              "      <td>Greece</td>\n",
              "      <td>Western Europe</td>\n",
              "      <td>5.033</td>\n",
              "      <td>1.248860</td>\n",
              "      <td>0.800290</td>\n",
              "      <td>0.058220</td>\n",
              "      <td>0.0</td>\n",
              "      <td>2016</td>\n",
              "    </tr>\n",
              "    <tr>\n",
              "      <th>50</th>\n",
              "      <td>Greece</td>\n",
              "      <td>Western Europe</td>\n",
              "      <td>5.227</td>\n",
              "      <td>1.289487</td>\n",
              "      <td>0.810199</td>\n",
              "      <td>0.095731</td>\n",
              "      <td>0.0</td>\n",
              "      <td>2017</td>\n",
              "    </tr>\n",
              "    <tr>\n",
              "      <th>50</th>\n",
              "      <td>Greece</td>\n",
              "      <td>Western Europe</td>\n",
              "      <td>5.358</td>\n",
              "      <td>1.154000</td>\n",
              "      <td>0.879000</td>\n",
              "      <td>0.131000</td>\n",
              "      <td>0.0</td>\n",
              "      <td>2018</td>\n",
              "    </tr>\n",
              "    <tr>\n",
              "      <th>50</th>\n",
              "      <td>Greece</td>\n",
              "      <td>Western Europe</td>\n",
              "      <td>5.287</td>\n",
              "      <td>1.181000</td>\n",
              "      <td>0.999000</td>\n",
              "      <td>0.067000</td>\n",
              "      <td>0.0</td>\n",
              "      <td>2019</td>\n",
              "    </tr>\n",
              "  </tbody>\n",
              "</table>\n",
              "</div>"
            ],
            "text/plain": [
              "   Country          Region  Score  ...   Freedom  Generosity  year\n",
              "50  Greece  Western Europe  4.857  ...  0.076990         0.0  2015\n",
              "50  Greece  Western Europe  5.033  ...  0.058220         0.0  2016\n",
              "50  Greece  Western Europe  5.227  ...  0.095731         0.0  2017\n",
              "50  Greece  Western Europe  5.358  ...  0.131000         0.0  2018\n",
              "50  Greece  Western Europe  5.287  ...  0.067000         0.0  2019\n",
              "\n",
              "[5 rows x 8 columns]"
            ]
          },
          "metadata": {
            "tags": []
          },
          "execution_count": 89
        }
      ]
    },
    {
      "cell_type": "code",
      "metadata": {
        "id": "dbgtd7IlEjFE",
        "colab_type": "code",
        "outputId": "56b97590-2dc1-42a5-b026-724895d71268",
        "colab": {
          "base_uri": "https://localhost:8080/",
          "height": 279
        }
      },
      "source": [
        "#Γράφημα για την πορεία της Ελλάδας στον βαθμό ευτυχίας αυτά τα χρόνια\n",
        "import matplotlib.pyplot as plt\n",
        "import pandas as pd\n",
        "\n",
        "ax = plt.gca()\n",
        "dfgr.plot(kind='line',x='year',y='Score',ax=ax)\n",
        "plt.show()"
      ],
      "execution_count": 0,
      "outputs": [
        {
          "output_type": "display_data",
          "data": {
            "image/png": "[encoded data removed]",
            "text/plain": [
              "<Figure size 432x288 with 1 Axes>"
            ]
          },
          "metadata": {
            "tags": [],
            "needs_background": "light"
          }
        }
      ]
    },
    {
      "cell_type": "code",
      "metadata": {
        "id": "PD7kixdTFiXj",
        "colab_type": "code",
        "outputId": "f2af1a9e-02f2-4329-c538-e14ce3af1ceb",
        "colab": {
          "base_uri": "https://localhost:8080/",
          "height": 279
        }
      },
      "source": [
        "#Γράφημα για τους λόγους που διαμόρφωσαν τον βαθμό ευτυχίας αυτά τα χρόνια\n",
        "ax = plt.gca()\n",
        "dfgr.plot(kind='line',x='year',y='GDP per capita',ax=ax)\n",
        "dfgr.plot(kind='line',x='year',y='Health',ax=ax)\n",
        "dfgr.plot(kind='line',x='year',y='Freedom',ax=ax)\n",
        "plt.show()"
      ],
      "execution_count": 0,
      "outputs": [
        {
          "output_type": "display_data",
          "data": {
            "image/png": "[encoded data removed]",
            "text/plain": [
              "<Figure size 432x288 with 1 Axes>"
            ]
          },
          "metadata": {
            "tags": [],
            "needs_background": "light"
          }
        }
      ]
    },
    {
      "cell_type": "code",
      "metadata": {
        "id": "QcO5N0MYBvwv",
        "colab_type": "code",
        "outputId": "1e9b65bc-7769-40ec-acd5-59ef1921cc94",
        "colab": {
          "base_uri": "https://localhost:8080/",
          "height": 265
        }
      },
      "source": [
        "#Γράφημα με τις τιμές της Ελλάδας\n",
        "dfgr.drop(['year','Score'], axis=1).plot.barh(stacked=True);"
      ],
      "execution_count": 0,
      "outputs": [
        {
          "output_type": "display_data",
          "data": {
            "image/png": "[encoded data removed]",
            "text/plain": [
              "<Figure size 432x288 with 1 Axes>"
            ]
          },
          "metadata": {
            "tags": [],
            "needs_background": "light"
          }
        }
      ]
    },
    {
      "cell_type": "code",
      "metadata": {
        "id": "jfYFGuWer43B",
        "colab_type": "code",
        "colab": {}
      },
      "source": [
        "#Εξαγωγή των τελικών επεξεργασμένων csv \n",
        "from google.colab import files\n",
        "df2015.to_csv('2015edit.csv') \n",
        "files.download('2015edit.csv')\n",
        "\n",
        "df2016.to_csv('2016edit.csv') \n",
        "files.download('2016edit.csv')\n",
        "\n",
        "df2017.to_csv('2017edit.csv') \n",
        "files.download('2017edit.csv')\n",
        "\n",
        "df2018.to_csv('2018edit.csv') \n",
        "files.download('2018edit.csv')\n",
        "\n",
        "df2019.to_csv('2019edit.csv') \n",
        "files.download('2019edit.csv')"
      ],
      "execution_count": 0,
      "outputs": []
    },
    {
      "cell_type": "code",
      "metadata": {
        "id": "lhJdWiI34J-S",
        "colab_type": "code",
        "outputId": "7af77d24-ab75-4746-b963-983045994e6c",
        "colab": {
          "base_uri": "https://localhost:8080/",
          "height": 419
        }
      },
      "source": [
        "#Δημιουργία ενός ομαδοποιημένου dataframe Που περιέχει όλες τις βαθμολογίες από το 15 μέχρι το 19 \n",
        "dfnew = pd.DataFrame()\n",
        "\n",
        "dfnew['Country'] = df2015['Country']\n",
        "dfnew['Region'] = df2015['Region']\n",
        "dfnew['Score15'] = df2015['Score']\n",
        "dfnew['Score16'] = df2016['Score']\n",
        "dfnew['Score17'] = df2017['Score']\n",
        "dfnew['Score18'] = df2018['Score']\n",
        "dfnew['Score19'] = df2019['Score']\n",
        "dfnew['mean'] = dfnew.mean(axis=1)\n",
        "\n",
        "dfnew"
      ],
      "execution_count": 0,
      "outputs": [
        {
          "output_type": "execute_result",
          "data": {
            "text/html": [
              "<div>\n",
              "<style scoped>\n",
              "    .dataframe tbody tr th:only-of-type {\n",
              "        vertical-align: middle;\n",
              "    }\n",
              "\n",
              "    .dataframe tbody tr th {\n",
              "        vertical-align: top;\n",
              "    }\n",
              "\n",
              "    .dataframe thead th {\n",
              "        text-align: right;\n",
              "    }\n",
              "</style>\n",
              "<table border=\"1\" class=\"dataframe\">\n",
              "  <thead>\n",
              "    <tr style=\"text-align: right;\">\n",
              "      <th></th>\n",
              "      <th>Country</th>\n",
              "      <th>Region</th>\n",
              "      <th>Score15</th>\n",
              "      <th>Score16</th>\n",
              "      <th>Score17</th>\n",
              "      <th>Score18</th>\n",
              "      <th>Score19</th>\n",
              "      <th>mean</th>\n",
              "    </tr>\n",
              "  </thead>\n",
              "  <tbody>\n",
              "    <tr>\n",
              "      <th>0</th>\n",
              "      <td>Afghanistan</td>\n",
              "      <td>Southern Asia</td>\n",
              "      <td>3.575</td>\n",
              "      <td>3.360</td>\n",
              "      <td>3.794</td>\n",
              "      <td>3.632</td>\n",
              "      <td>3.203</td>\n",
              "      <td>3.51280</td>\n",
              "    </tr>\n",
              "    <tr>\n",
              "      <th>1</th>\n",
              "      <td>Albania</td>\n",
              "      <td>Central and Eastern Europe</td>\n",
              "      <td>4.959</td>\n",
              "      <td>4.655</td>\n",
              "      <td>4.644</td>\n",
              "      <td>4.586</td>\n",
              "      <td>4.719</td>\n",
              "      <td>4.71260</td>\n",
              "    </tr>\n",
              "    <tr>\n",
              "      <th>2</th>\n",
              "      <td>Algeria</td>\n",
              "      <td>Middle East and Northern Africa</td>\n",
              "      <td>5.605</td>\n",
              "      <td>6.355</td>\n",
              "      <td>5.872</td>\n",
              "      <td>5.295</td>\n",
              "      <td>5.211</td>\n",
              "      <td>5.66760</td>\n",
              "    </tr>\n",
              "    <tr>\n",
              "      <th>3</th>\n",
              "      <td>Angola</td>\n",
              "      <td>Sub-Saharan Africa</td>\n",
              "      <td>4.033</td>\n",
              "      <td>3.866</td>\n",
              "      <td>3.795</td>\n",
              "      <td>3.795</td>\n",
              "      <td>NaN</td>\n",
              "      <td>3.87225</td>\n",
              "    </tr>\n",
              "    <tr>\n",
              "      <th>4</th>\n",
              "      <td>Argentina</td>\n",
              "      <td>Latin America and Caribbean</td>\n",
              "      <td>6.574</td>\n",
              "      <td>6.650</td>\n",
              "      <td>6.599</td>\n",
              "      <td>6.388</td>\n",
              "      <td>6.086</td>\n",
              "      <td>6.45940</td>\n",
              "    </tr>\n",
              "    <tr>\n",
              "      <th>...</th>\n",
              "      <td>...</td>\n",
              "      <td>...</td>\n",
              "      <td>...</td>\n",
              "      <td>...</td>\n",
              "      <td>...</td>\n",
              "      <td>...</td>\n",
              "      <td>...</td>\n",
              "      <td>...</td>\n",
              "    </tr>\n",
              "    <tr>\n",
              "      <th>151</th>\n",
              "      <td>Venezuela</td>\n",
              "      <td>Latin America and Caribbean</td>\n",
              "      <td>6.810</td>\n",
              "      <td>6.084</td>\n",
              "      <td>5.074</td>\n",
              "      <td>4.806</td>\n",
              "      <td>4.707</td>\n",
              "      <td>5.49620</td>\n",
              "    </tr>\n",
              "    <tr>\n",
              "      <th>152</th>\n",
              "      <td>Vietnam</td>\n",
              "      <td>Southeastern Asia</td>\n",
              "      <td>5.360</td>\n",
              "      <td>5.061</td>\n",
              "      <td>3.593</td>\n",
              "      <td>5.103</td>\n",
              "      <td>5.175</td>\n",
              "      <td>4.85840</td>\n",
              "    </tr>\n",
              "    <tr>\n",
              "      <th>153</th>\n",
              "      <td>Yemen</td>\n",
              "      <td>Middle East and Northern Africa</td>\n",
              "      <td>4.077</td>\n",
              "      <td>3.724</td>\n",
              "      <td>4.514</td>\n",
              "      <td>3.355</td>\n",
              "      <td>3.380</td>\n",
              "      <td>3.81000</td>\n",
              "    </tr>\n",
              "    <tr>\n",
              "      <th>154</th>\n",
              "      <td>Zambia</td>\n",
              "      <td>Sub-Saharan Africa</td>\n",
              "      <td>5.129</td>\n",
              "      <td>4.795</td>\n",
              "      <td>3.875</td>\n",
              "      <td>4.377</td>\n",
              "      <td>4.107</td>\n",
              "      <td>4.45660</td>\n",
              "    </tr>\n",
              "    <tr>\n",
              "      <th>155</th>\n",
              "      <td>Zimbabwe</td>\n",
              "      <td>Sub-Saharan Africa</td>\n",
              "      <td>4.610</td>\n",
              "      <td>4.193</td>\n",
              "      <td>NaN</td>\n",
              "      <td>3.692</td>\n",
              "      <td>3.663</td>\n",
              "      <td>4.03950</td>\n",
              "    </tr>\n",
              "  </tbody>\n",
              "</table>\n",
              "<p>156 rows × 8 columns</p>\n",
              "</div>"
            ],
            "text/plain": [
              "         Country                           Region  ...  Score19     mean\n",
              "0    Afghanistan                    Southern Asia  ...    3.203  3.51280\n",
              "1        Albania       Central and Eastern Europe  ...    4.719  4.71260\n",
              "2        Algeria  Middle East and Northern Africa  ...    5.211  5.66760\n",
              "3         Angola               Sub-Saharan Africa  ...      NaN  3.87225\n",
              "4      Argentina      Latin America and Caribbean  ...    6.086  6.45940\n",
              "..           ...                              ...  ...      ...      ...\n",
              "151    Venezuela      Latin America and Caribbean  ...    4.707  5.49620\n",
              "152      Vietnam                Southeastern Asia  ...    5.175  4.85840\n",
              "153        Yemen  Middle East and Northern Africa  ...    3.380  3.81000\n",
              "154       Zambia               Sub-Saharan Africa  ...    4.107  4.45660\n",
              "155     Zimbabwe               Sub-Saharan Africa  ...    3.663  4.03950\n",
              "\n",
              "[156 rows x 8 columns]"
            ]
          },
          "metadata": {
            "tags": []
          },
          "execution_count": 82
        }
      ]
    },
    {
      "cell_type": "code",
      "metadata": {
        "id": "nfEI9UQ5O7mL",
        "colab_type": "code",
        "colab": {}
      },
      "source": [
        "#Εξαγωγή του ομαδοποιημένου csv για επεξεργασία με google sheets (χάρτες)\n",
        "from google.colab import files\n",
        "dfnew.to_csv('data.csv') \n",
        "files.download('data.csv')"
      ],
      "execution_count": 0,
      "outputs": []
    },
    {
      "cell_type": "code",
      "metadata": {
        "id": "BVUsGv3w6F6w",
        "colab_type": "code",
        "colab": {}
      },
      "source": [
        ""
      ],
      "execution_count": 0,
      "outputs": []
    }
  ]
}