{
  "nbformat": 4,
  "nbformat_minor": 0,
  "metadata": {
    "colab": {
      "name": "Homework1-ΠΑΠΑΔΗΜΗΤΡΙΟΥ.ipynb",
      "provenance": [],
      "collapsed_sections": [],
      "authorship_tag": "ABX9TyPZxmPI2/hJEvIq6X4XEHhE",
      "include_colab_link": true
    },
    "kernelspec": {
      "name": "python3",
      "display_name": "Python 3"
    }
  },
  "cells": [
    {
      "cell_type": "markdown",
      "metadata": {
        "id": "view-in-github",
        "colab_type": "text"
      },
      "source": [
        "<a href=\"https://colab.research.google.com/github/Jokerakos/Python_Projects/blob/master/Homework1_%CE%A0%CE%91%CE%A0%CE%91%CE%94%CE%97%CE%9C%CE%97%CE%A4%CE%A1%CE%99%CE%9F%CE%A5.ipynb\" target=\"_parent\"><img src=\"https://colab.research.google.com/assets/colab-badge.svg\" alt=\"Open In Colab\"/></a>"
      ]
    },
    {
      "cell_type": "code",
      "metadata": {
        "colab_type": "code",
        "outputId": "e74662cd-730d-48ec-d931-e8fa342bb70c",
        "id": "BKSOGos35wu2",
        "colab": {
          "base_uri": "https://localhost:8080/",
          "height": 221
        }
      },
      "source": [
        "# Theodoros Papadimitriou\n",
        "# 25/2/2020\n",
        "# Homework 1\n",
        "ilikia =int\n",
        "today =int\n",
        "\n",
        "ilikia = int(input(\"Ποιό έτος γεννήθηκες;\"))\n",
        "today = int(2020)\n",
        "if ilikia > today: print(\"Ξανασκέψου το\") \n",
        "age = today - ilikia\n",
        "heartbeat =int\n",
        "heartyear =int(42075904)\n",
        "whaleyear =int(3153600)\n",
        "rabbityear =int(63072000)\n",
        "person = int(heartyear*age)\n",
        "whale = int(whaleyear*age)\n",
        "rabbit =int(rabbityear*age)\n",
        "ageme =int(1991)\n",
        "agemeilikia =int(28)\n",
        "venus =0.61519726\n",
        "neptune =164.79132\n",
        "\n",
        "print (\"Είσαι \",age-1)\n",
        "if (person>1000000000):\n",
        "  person= person / 1000000000\n",
        "  b_person = \"{:.2f}\".format(person)\n",
        "  print (b_person)\n",
        "  print (\"Η καρδιά σου έχει χτυπήσει περίπου \", b_person, \"δισεκατομμύρια φορές\")\n",
        "else:\n",
        "  print (person)\n",
        "if (whale>1000000000):\n",
        "  whale= whale / 1000000000 \n",
        "  b_whale = \"{:.2f}\".format(whale)\n",
        "  print (b_whale)\n",
        "  print (\"Ενώ μιας φάλαινας μόνο\", b_whale, \"όσο ζεις\")\n",
        "else:\n",
        "  print (\"Ενώ μιας φάλαινας μόνο\", whale, \"όσο ζεις\")\n",
        "if (rabbit>1000000000):\n",
        "  rabbit= rabbit / 1000000000\n",
        "  b_rabbit = \"{:.2f}\".format(rabbit)\n",
        "  print (\"Του λαγού\", b_rabbit,\"δισεκατομμύρια φορές!\")\n",
        "else:\n",
        "  print (\"Του λαγού\", rabbit,\"δισεκατομμύρια φορές!\")\n",
        "agevenus = int(age / venus)\n",
        "print (\"Στην Αφροδίτη είσαι\", agevenus)\n",
        "ageneptune = age / neptune\n",
        "print (\"Στoν Ποσειδώνα είσαι\", ageneptune)\n",
        "if (ilikia==ageme):\n",
        "  print (\"Είμαστε ίδια ηλικία\")\n",
        "elif (ilikia > ageme):\n",
        "  print (\"Είσαι μικρότερος από εμένα κατά\", ilikia - ageme, \"χρόνια\")\n",
        "else:\n",
        "  print (\"Είσαι μεγαλύτερος από εμένα\", ageme - ilikia,\"χρόνια\")  \n",
        "if ilikia % 2 == 1:\n",
        "  print (\"Γεννήθηκες σε μονή χρονιά\")\n",
        "else:\n",
        "  print (\"Γεννήθηκες σε ζυγή χρονιά\")\n",
        "pitt = [1975, 1976, 1979, 1980, 2006, 2009]\n",
        "if ilikia in pitt:\n",
        "  print (\"Οι Pittsburgh Steelers είχαν κερδίσει το Superbowl όταν γεννήθηκες\")\n",
        "rooz = [1933, 1934, 1935, 1936, 1937, 1938, 1939, 1940, 1941, 1942, 1943, 1944, 1945] \n",
        "tru = [1946, 1947, 1948, 1949, 1950, 1951, 1952, 1953] #Truman\n",
        "eizen = [1954, 1955, 1956, 1957, 1958, 1959, 1960, 1961] #Eisenhower\n",
        "ken = [1962, 1963] #Kennedy\n",
        "john = [1964, 1965, 1966, 1967, 1968, 1939] #Johnson\n",
        "nixon = [1970, 1971, 1972, 1973, 1974] #Nixon\n",
        "ford = [1975, 1976, 1977] #Ford\n",
        "carter = [1978, 1979, 1980, 1981] #Carter\n",
        "reagan = [1982, 1983, 1984, 1985, 1986, 1987, 1988, 1989] #Reagan\n",
        "bush = [1990, 1991, 1992, 1993] #George H. W. Bush\n",
        "clinton = [1994, 1995, 1996, 1997, 1998, 1999, 2000, 2001] #Clinton\n",
        "did911 = [2002,2003,2004,2005,2006,2007,2008,2009] #George W. Bush\n",
        "obama = [2010,2011,2012,2013,2014,2015,2016,2017] #Obama\n",
        "orange = [2017,2018,2019,2020] #Trump\n",
        "print(\"Όταν γεννήθηκες πρόεδρος της Αμερικής ήταν ο:\")\n",
        "if ilikia in rooz:\n",
        "    print (\"Roozvelt\")\n",
        "elif ilikia in tru:\n",
        "    print (\"Truman\")\n",
        "elif ilikia in eizen:\n",
        "    print (\"Eisenhower\")\n",
        "elif ilikia in ken:\n",
        "    print (\"Kennedy\")\n",
        "elif ilikia in john:\n",
        "    print (\"Johnson\")    \n",
        "elif ilikia in nixon:\n",
        "    print (\"Nixon\")  \n",
        "elif ilikia in ford:\n",
        "    print (\"Ford\")  \n",
        "elif ilikia in carter:\n",
        "    print (\"Carter\")  \n",
        "elif ilikia in reagan:\n",
        "    print (\"Reagan\")  \n",
        "elif ilikia in bush:\n",
        "    print (\"Bush (ο Πατέρας)\")  \n",
        "elif ilikia in clinton:\n",
        "    print (\"Clinton\")  \n",
        "elif ilikia in did911:\n",
        "    print (\"Bush ο νεότερος\")  \n",
        "elif ilikia in obama:\n",
        "    print (\"Obama\")  \n",
        "elif ilikia in orange:\n",
        "    print (\"Trump\")  \n",
        "else:\n",
        "    print (\"Κανένας\")\n",
        "\n"
      ],
      "execution_count": 0,
      "outputs": [
        {
          "output_type": "stream",
          "text": [
            "Ποιό έτος γεννήθηκες;1991\n",
            "Είσαι  28\n",
            "1.22\n",
            "Η καρδιά σου έχει χτυπήσει περίπου  1.22 δισεκατομμύρια φορές\n",
            "Ενώ μιας φάλαινας μόνο 91454400 όσο ζεις\n",
            "Του λαγού 1.83 δισεκατομμύρια φορές!\n",
            "Στην Αφροδίτη είσαι 47\n",
            "Στoν Ποσειδώνα είσαι 0.17598014264343534\n",
            "Είμαστε ίδια ηλικία\n",
            "Γεννήθηκες σε μονή χρονιά\n",
            "Όταν γεννήθηκες πρόεδρος της Αμερικής ήταν ο:\n",
            "Bush (ο Πατέρας)\n"
          ],
          "name": "stdout"
        }
      ]
    },
    {
      "cell_type": "code",
      "metadata": {
        "id": "tdS2RcZCsZSz",
        "colab_type": "code",
        "colab": {}
      },
      "source": [
        ""
      ],
      "execution_count": 0,
      "outputs": []
    }
  ]
}